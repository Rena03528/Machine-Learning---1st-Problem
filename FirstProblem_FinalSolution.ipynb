{
 "cells": [
  {
   "cell_type": "markdown",
   "metadata": {},
   "source": [
    "4.1.1 INICIAL DATA VISUALIZATION"
   ]
  },
  {
   "cell_type": "code",
   "execution_count": 29,
   "metadata": {},
   "outputs": [
    {
     "data": {
      "text/html": [
       "<div>\n",
       "<style scoped>\n",
       "    .dataframe tbody tr th:only-of-type {\n",
       "        vertical-align: middle;\n",
       "    }\n",
       "\n",
       "    .dataframe tbody tr th {\n",
       "        vertical-align: top;\n",
       "    }\n",
       "\n",
       "    .dataframe thead th {\n",
       "        text-align: right;\n",
       "    }\n",
       "</style>\n",
       "<table border=\"1\" class=\"dataframe\">\n",
       "  <thead>\n",
       "    <tr style=\"text-align: right;\">\n",
       "      <th></th>\n",
       "      <th>Feature 1</th>\n",
       "      <th>Feature 2</th>\n",
       "      <th>Feature 3</th>\n",
       "      <th>Feature 4</th>\n",
       "      <th>Feature 5</th>\n",
       "      <th>Target (y_train)</th>\n",
       "    </tr>\n",
       "  </thead>\n",
       "  <tbody>\n",
       "    <tr>\n",
       "      <th>0</th>\n",
       "      <td>243.603602</td>\n",
       "      <td>320.129329</td>\n",
       "      <td>263.887099</td>\n",
       "      <td>138.347154</td>\n",
       "      <td>187.518604</td>\n",
       "      <td>-2.737384</td>\n",
       "    </tr>\n",
       "    <tr>\n",
       "      <th>1</th>\n",
       "      <td>0.807288</td>\n",
       "      <td>-0.036818</td>\n",
       "      <td>627.205787</td>\n",
       "      <td>149.999110</td>\n",
       "      <td>109.295966</td>\n",
       "      <td>-0.410969</td>\n",
       "    </tr>\n",
       "    <tr>\n",
       "      <th>2</th>\n",
       "      <td>-89.012773</td>\n",
       "      <td>1.331870</td>\n",
       "      <td>157.805750</td>\n",
       "      <td>145.964094</td>\n",
       "      <td>104.658223</td>\n",
       "      <td>14.833533</td>\n",
       "    </tr>\n",
       "    <tr>\n",
       "      <th>3</th>\n",
       "      <td>-300.950338</td>\n",
       "      <td>-13.833076</td>\n",
       "      <td>-83.805788</td>\n",
       "      <td>127.188902</td>\n",
       "      <td>89.762707</td>\n",
       "      <td>3.960804</td>\n",
       "    </tr>\n",
       "    <tr>\n",
       "      <th>4</th>\n",
       "      <td>375.153738</td>\n",
       "      <td>158.006206</td>\n",
       "      <td>-272.035822</td>\n",
       "      <td>111.853997</td>\n",
       "      <td>161.561648</td>\n",
       "      <td>10.400393</td>\n",
       "    </tr>\n",
       "    <tr>\n",
       "      <th>...</th>\n",
       "      <td>...</td>\n",
       "      <td>...</td>\n",
       "      <td>...</td>\n",
       "      <td>...</td>\n",
       "      <td>...</td>\n",
       "      <td>...</td>\n",
       "    </tr>\n",
       "    <tr>\n",
       "      <th>195</th>\n",
       "      <td>242.813582</td>\n",
       "      <td>244.079078</td>\n",
       "      <td>279.983609</td>\n",
       "      <td>188.535738</td>\n",
       "      <td>175.163235</td>\n",
       "      <td>-2.356786</td>\n",
       "    </tr>\n",
       "    <tr>\n",
       "      <th>196</th>\n",
       "      <td>97.201919</td>\n",
       "      <td>128.383706</td>\n",
       "      <td>128.146943</td>\n",
       "      <td>169.641872</td>\n",
       "      <td>144.133568</td>\n",
       "      <td>-0.679252</td>\n",
       "    </tr>\n",
       "    <tr>\n",
       "      <th>197</th>\n",
       "      <td>399.021837</td>\n",
       "      <td>132.958737</td>\n",
       "      <td>133.830612</td>\n",
       "      <td>135.274452</td>\n",
       "      <td>158.813603</td>\n",
       "      <td>-2.202706</td>\n",
       "    </tr>\n",
       "    <tr>\n",
       "      <th>198</th>\n",
       "      <td>232.785364</td>\n",
       "      <td>176.828573</td>\n",
       "      <td>49.615762</td>\n",
       "      <td>148.324708</td>\n",
       "      <td>157.870006</td>\n",
       "      <td>9.637862</td>\n",
       "    </tr>\n",
       "    <tr>\n",
       "      <th>199</th>\n",
       "      <td>-15.794519</td>\n",
       "      <td>127.415119</td>\n",
       "      <td>-70.400016</td>\n",
       "      <td>140.762459</td>\n",
       "      <td>136.107715</td>\n",
       "      <td>0.910249</td>\n",
       "    </tr>\n",
       "  </tbody>\n",
       "</table>\n",
       "<p>200 rows × 6 columns</p>\n",
       "</div>"
      ],
      "text/plain": [
       "      Feature 1   Feature 2   Feature 3   Feature 4   Feature 5  \\\n",
       "0    243.603602  320.129329  263.887099  138.347154  187.518604   \n",
       "1      0.807288   -0.036818  627.205787  149.999110  109.295966   \n",
       "2    -89.012773    1.331870  157.805750  145.964094  104.658223   \n",
       "3   -300.950338  -13.833076  -83.805788  127.188902   89.762707   \n",
       "4    375.153738  158.006206 -272.035822  111.853997  161.561648   \n",
       "..          ...         ...         ...         ...         ...   \n",
       "195  242.813582  244.079078  279.983609  188.535738  175.163235   \n",
       "196   97.201919  128.383706  128.146943  169.641872  144.133568   \n",
       "197  399.021837  132.958737  133.830612  135.274452  158.813603   \n",
       "198  232.785364  176.828573   49.615762  148.324708  157.870006   \n",
       "199  -15.794519  127.415119  -70.400016  140.762459  136.107715   \n",
       "\n",
       "     Target (y_train)  \n",
       "0           -2.737384  \n",
       "1           -0.410969  \n",
       "2           14.833533  \n",
       "3            3.960804  \n",
       "4           10.400393  \n",
       "..                ...  \n",
       "195         -2.356786  \n",
       "196         -0.679252  \n",
       "197         -2.202706  \n",
       "198          9.637862  \n",
       "199          0.910249  \n",
       "\n",
       "[200 rows x 6 columns]"
      ]
     },
     "execution_count": 29,
     "metadata": {},
     "output_type": "execute_result"
    }
   ],
   "source": [
    "import numpy as np\n",
    "import pandas as pd\n",
    "\n",
    "df = pd.read_csv('X_train_y_train.csv')\n",
    "df_np = df.to_numpy()\n",
    "X_train = df_np[:, :5]\n",
    "y_train = df_np[:, -1]\n",
    "df"
   ]
  },
  {
   "cell_type": "markdown",
   "metadata": {},
   "source": [
    "4.1.2 OUTLIERS REMOVAL"
   ]
  },
  {
   "cell_type": "code",
   "execution_count": 30,
   "metadata": {},
   "outputs": [
    {
     "name": "stdout",
     "output_type": "stream",
     "text": [
      "Número de outliers removidos: 50\n",
      "Dimensão dos dados limpos: (150, 5)\n",
      "Dimensão dos dados limpos: (150,)\n"
     ]
    }
   ],
   "source": [
    "import numpy as np\n",
    "from sklearn.linear_model import LinearRegression\n",
    "\n",
    "num_outliers_to_remove= 50\n",
    "cleaned_x_train = X_train\n",
    "cleaned_y_train = y_train\n",
    "num_outliers_removed = 0\n",
    "\n",
    "for i in range(num_outliers_to_remove):\n",
    "\n",
    "    lin = LinearRegression().fit(cleaned_x_train, cleaned_y_train)\n",
    "    \n",
    "    y_pred = lin.predict(cleaned_x_train)\n",
    "    squared_errors = (y_pred - cleaned_y_train) ** 2\n",
    "\n",
    "    idx = np.argmax(squared_errors)\n",
    "    \n",
    "    cleaned_x_train = np.delete(cleaned_x_train, idx, axis=0)\n",
    "    cleaned_y_train = np.delete(cleaned_y_train, idx, axis=0)\n",
    "    \n",
    "    num_outliers_removed += 1\n",
    "    \n",
    "print(f\"Número de outliers removidos: {num_outliers_removed}\")\n",
    "print(f\"Dimensão dos dados limpos: {cleaned_x_train.shape}\")\n",
    "print(f\"Dimensão dos dados limpos: {cleaned_y_train.shape}\")\n"
   ]
  },
  {
   "cell_type": "markdown",
   "metadata": {},
   "source": [
    "4.1.3 DATA EVALUATION"
   ]
  },
  {
   "cell_type": "code",
   "execution_count": 31,
   "metadata": {},
   "outputs": [],
   "source": [
    "from sklearn.metrics import mean_absolute_error, mean_squared_error, r2_score\n",
    "from sklearn.model_selection import cross_validate\n",
    "import pandas as pd\n",
    "import numpy as np\n",
    "\n",
    "def evaluate_model(model, cleaned_x_train, cleaned_y_train, y_pred, k, cv_flag, model_name, evaluation_df=None):\n",
    "\n",
    "    if evaluation_df is None:\n",
    "        evaluation_df = pd.DataFrame(columns=['Model', 'MSE', 'MAE', 'R²', 'SSE'])\n",
    "\n",
    "    if not cv_flag:\n",
    "        cross_validation = cross_validate(\n",
    "            model, \n",
    "            cleaned_x_train, \n",
    "            cleaned_y_train, \n",
    "            cv=k, \n",
    "            scoring=('neg_mean_squared_error', 'r2', 'neg_mean_absolute_error'), \n",
    "            return_train_score=True\n",
    "        )\n",
    "        \n",
    "        mae = abs(cross_validation['test_neg_mean_absolute_error'].mean())\n",
    "        mse = abs(cross_validation['test_neg_mean_squared_error'].mean()) \n",
    "        r2 = cross_validation['train_r2'].mean()\n",
    "        \n",
    "        n_samples = len(cleaned_x_train) // k\n",
    "        sse = mse * n_samples * k\n",
    "\n",
    "    else:\n",
    "        mse = mean_squared_error(cleaned_y_train, y_pred)\n",
    "        mae = mean_absolute_error(cleaned_y_train, y_pred)\n",
    "        r2 = r2_score(cleaned_y_train, y_pred)\n",
    "        sse = np.sum((cleaned_y_train - y_pred) ** 2)\n",
    "\n",
    "    new_row = pd.DataFrame({\n",
    "        'Model': [model_name],\n",
    "        'MSE': [mse],\n",
    "        'MAE': [mae],\n",
    "        'R²': [r2],\n",
    "        'SSE': [sse]\n",
    "    })\n",
    "\n",
    "    if not cv_flag:\n",
    "        evaluation_df = new_row\n",
    "    else:\n",
    "        evaluation_df = pd.concat([evaluation_df, new_row], ignore_index=True)\n",
    "\n",
    "    return evaluation_df\n"
   ]
  },
  {
   "cell_type": "markdown",
   "metadata": {},
   "source": [
    "4.1.4 MODELS"
   ]
  },
  {
   "cell_type": "markdown",
   "metadata": {},
   "source": [
    "    4.1.4.1 LINEAR REGRESSION"
   ]
  },
  {
   "cell_type": "code",
   "execution_count": 32,
   "metadata": {},
   "outputs": [],
   "source": [
    "from sklearn.model_selection import train_test_split\n",
    "from sklearn.linear_model import LinearRegression\n",
    "\n",
    "k = 20\n",
    "\n",
    "regr_best = LinearRegression().fit(cleaned_x_train, cleaned_y_train)\n",
    "\n",
    "y_pred_regr_best = 0 # not used in this case\n",
    "\n",
    "df_regr_best = evaluate_model(regr_best, cleaned_x_train, cleaned_y_train.ravel(), y_pred_regr_best, k, False, 'l-regr')"
   ]
  },
  {
   "cell_type": "markdown",
   "metadata": {},
   "source": [
    "    4.1.3.2 Lasso Cross Validation"
   ]
  },
  {
   "cell_type": "code",
   "execution_count": 33,
   "metadata": {},
   "outputs": [
    {
     "name": "stdout",
     "output_type": "stream",
     "text": [
      "Best alpha LASSOCV:  1e-05\n"
     ]
    }
   ],
   "source": [
    "import numpy as np\n",
    "import pandas as pd\n",
    "from sklearn.linear_model import LassoCV\n",
    "\n",
    "k = 10 \n",
    "alpha_values = np.arange(0.00001, 1, 0.0001)\n",
    "\n",
    "lasso_cv_best = LassoCV(alphas=alpha_values, cv=k).fit(cleaned_x_train, cleaned_y_train.ravel())\n",
    "y_pred_lasso_cv_best = lasso_cv_best.predict(cleaned_x_train)\n",
    "\n",
    "df_lasso_cv_best = evaluate_model(lasso_cv_best, cleaned_x_train, cleaned_y_train.ravel(), y_pred_lasso_cv_best, k, True, \"LassoCV\",df_regr_best)\n",
    "\n",
    "print('Best alpha LASSOCV: ', lasso_cv_best.alpha_)"
   ]
  },
  {
   "cell_type": "markdown",
   "metadata": {},
   "source": [
    "    4.1.3.3 Lasso Lars Cross Validation"
   ]
  },
  {
   "cell_type": "code",
   "execution_count": 34,
   "metadata": {},
   "outputs": [
    {
     "name": "stdout",
     "output_type": "stream",
     "text": [
      "Best alpha LASSOLARSCV:  0.0\n"
     ]
    }
   ],
   "source": [
    "from sklearn.linear_model import LassoLarsCV\n",
    "\n",
    "k = 10 \n",
    "\n",
    "lasso_lars_cv_best = LassoLarsCV(cv = k).fit(cleaned_x_train, cleaned_y_train.ravel())\n",
    "y_pred_lasso_lars_cv_best = lasso_lars_cv_best.predict(cleaned_x_train)\n",
    "\n",
    "df_lasso_lars_cv_best = evaluate_model(lasso_lars_cv_best, cleaned_x_train, cleaned_y_train.ravel(), y_pred_lasso_lars_cv_best, k, True, \"LassoLarsCV\",df_lasso_cv_best)\n",
    "\n",
    "print('Best alpha LASSOLARSCV: ', lasso_lars_cv_best.alpha_)"
   ]
  },
  {
   "cell_type": "markdown",
   "metadata": {},
   "source": [
    "    4.1.3.4 Ridge Cross Validation"
   ]
  },
  {
   "cell_type": "code",
   "execution_count": 35,
   "metadata": {},
   "outputs": [
    {
     "name": "stdout",
     "output_type": "stream",
     "text": [
      "Best alpha RIDGECV:  0.9900100000000001\n"
     ]
    }
   ],
   "source": [
    "from sklearn.linear_model import RidgeCV\n",
    "\n",
    "k = 10 \n",
    "alpha_values = np.arange(0.00001, 1, 0.01)\n",
    "\n",
    "ridge_cv_best = RidgeCV(alphas = alpha_values, cv = k).fit(cleaned_x_train, cleaned_y_train.ravel())\n",
    "y_pred_ridge_cv_best = ridge_cv_best.predict(cleaned_x_train)\n",
    "\n",
    "df_ridge_cv_best = evaluate_model(ridge_cv_best, cleaned_x_train, cleaned_y_train.ravel(), y_pred_ridge_cv_best, k, True, \"RidgeCV\",df_lasso_lars_cv_best)\n",
    "\n",
    "print('Best alpha RIDGECV: ', ridge_cv_best.alpha_)"
   ]
  },
  {
   "cell_type": "markdown",
   "metadata": {},
   "source": [
    "    4.1.3.5 Elastic Net Cross Validation"
   ]
  },
  {
   "cell_type": "code",
   "execution_count": 36,
   "metadata": {},
   "outputs": [
    {
     "name": "stdout",
     "output_type": "stream",
     "text": [
      "Best alpha ELASTICNETCV:  0.0001\n"
     ]
    }
   ],
   "source": [
    "from sklearn.linear_model import ElasticNetCV\n",
    "\n",
    "l1_ratios=[0.1, 0.2, 0.3, 0.4, 0.5, 0.6, 0.7, 0.8, 0.9]\n",
    "l1_ratios=[0.3, 0.4, 0.5, 0.6, 0.7]\n",
    "alpha_values = np.arange(0.0001, 1, 0.1)\n",
    "\n",
    "elastic_net_cv_best = ElasticNetCV(l1_ratio = 0.4 , alphas = alpha_values, cv = k).fit(cleaned_x_train, cleaned_y_train.ravel())\n",
    "y_pred_elastic_net_cv_best = elastic_net_cv_best.predict(cleaned_x_train)\n",
    "\n",
    "df_elastic_net_cv_best = evaluate_model(elastic_net_cv_best, cleaned_x_train, cleaned_y_train.ravel(), y_pred_elastic_net_cv_best, k, True, \"ElasticNetCV\",df_ridge_cv_best)\n",
    "\n",
    "print('Best alpha ELASTICNETCV: ', elastic_net_cv_best.alpha_)"
   ]
  },
  {
   "cell_type": "markdown",
   "metadata": {},
   "source": [
    "FINAL RESULTS"
   ]
  },
  {
   "cell_type": "code",
   "execution_count": 37,
   "metadata": {},
   "outputs": [
    {
     "name": "stdout",
     "output_type": "stream",
     "text": [
      "          Model       MSE       MAE        R²       SSE\n",
      "0        l-regr  0.000262  0.012804  0.999858  0.036645\n",
      "1       LassoCV  0.000245  0.012436  0.999858  0.036806\n",
      "2   LassoLarsCV  0.000245  0.012417  0.999858  0.036774\n",
      "3       RidgeCV  0.000245  0.012417  0.999858  0.036774\n",
      "4  ElasticNetCV  0.000245  0.012436  0.999858  0.036808\n"
     ]
    }
   ],
   "source": [
    "print(df_elastic_net_cv_best)"
   ]
  },
  {
   "cell_type": "markdown",
   "metadata": {},
   "source": [
    "FINAL SOLUTION"
   ]
  },
  {
   "cell_type": "code",
   "execution_count": 38,
   "metadata": {},
   "outputs": [
    {
     "name": "stdout",
     "output_type": "stream",
     "text": [
      "Model coefficients (weights): [-4.77750857e-03 -5.20362315e-03 -1.82833635e-03 -4.13199153e-05\n",
      " -2.20369897e-03]\n",
      "Model intercept (bias): 0.9971905630412329\n"
     ]
    }
   ],
   "source": [
    "x_test = np.load('x_test.npy')\n",
    "\n",
    "y_test = regr_best.predict(x_test)\n",
    "\n",
    "np.save('y_test.npy', y_test)\n",
    "\n",
    "print(\"Model coefficients (weights):\", regr_best.coef_)\n",
    "print(\"Model intercept (bias):\", regr_best.intercept_)\n",
    "\n",
    "y_test_loaded = np.load('y_test.npy')"
   ]
  }
 ],
 "metadata": {
  "kernelspec": {
   "display_name": ".venv",
   "language": "python",
   "name": "python3"
  },
  "language_info": {
   "codemirror_mode": {
    "name": "ipython",
    "version": 3
   },
   "file_extension": ".py",
   "mimetype": "text/x-python",
   "name": "python",
   "nbconvert_exporter": "python",
   "pygments_lexer": "ipython3",
   "version": "3.12.6"
  }
 },
 "nbformat": 4,
 "nbformat_minor": 2
}
